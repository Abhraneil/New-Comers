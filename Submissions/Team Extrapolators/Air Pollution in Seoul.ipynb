{
 "cells": [
  {
   "cell_type": "code",
   "execution_count": 62,
   "metadata": {},
   "outputs": [],
   "source": [
    "import pandas as pd\n",
    "import numpy as np\n",
    "import matplotlib.pyplot as plt\n",
    "%matplotlib inline\n",
    "import seaborn as sns\n",
    "import math"
   ]
  },
  {
   "cell_type": "markdown",
   "metadata": {},
   "source": [
    "# Collecting Data"
   ]
  },
  {
   "cell_type": "code",
   "execution_count": 63,
   "metadata": {},
   "outputs": [
    {
     "data": {
      "text/html": [
       "<div>\n",
       "<style scoped>\n",
       "    .dataframe tbody tr th:only-of-type {\n",
       "        vertical-align: middle;\n",
       "    }\n",
       "\n",
       "    .dataframe tbody tr th {\n",
       "        vertical-align: top;\n",
       "    }\n",
       "\n",
       "    .dataframe thead th {\n",
       "        text-align: right;\n",
       "    }\n",
       "</style>\n",
       "<table border=\"1\" class=\"dataframe\">\n",
       "  <thead>\n",
       "    <tr style=\"text-align: right;\">\n",
       "      <th></th>\n",
       "      <th>Measurement date</th>\n",
       "      <th>Station code</th>\n",
       "      <th>Item code</th>\n",
       "      <th>Average value</th>\n",
       "      <th>Instrument status</th>\n",
       "    </tr>\n",
       "  </thead>\n",
       "  <tbody>\n",
       "    <tr>\n",
       "      <th>0</th>\n",
       "      <td>2017-01-01 00:00</td>\n",
       "      <td>101</td>\n",
       "      <td>1</td>\n",
       "      <td>0.004</td>\n",
       "      <td>0</td>\n",
       "    </tr>\n",
       "    <tr>\n",
       "      <th>1</th>\n",
       "      <td>2017-01-01 00:00</td>\n",
       "      <td>101</td>\n",
       "      <td>3</td>\n",
       "      <td>0.059</td>\n",
       "      <td>0</td>\n",
       "    </tr>\n",
       "    <tr>\n",
       "      <th>2</th>\n",
       "      <td>2017-01-01 00:00</td>\n",
       "      <td>101</td>\n",
       "      <td>5</td>\n",
       "      <td>1.200</td>\n",
       "      <td>0</td>\n",
       "    </tr>\n",
       "    <tr>\n",
       "      <th>3</th>\n",
       "      <td>2017-01-01 00:00</td>\n",
       "      <td>101</td>\n",
       "      <td>6</td>\n",
       "      <td>0.002</td>\n",
       "      <td>0</td>\n",
       "    </tr>\n",
       "    <tr>\n",
       "      <th>4</th>\n",
       "      <td>2017-01-01 00:00</td>\n",
       "      <td>101</td>\n",
       "      <td>8</td>\n",
       "      <td>73.000</td>\n",
       "      <td>0</td>\n",
       "    </tr>\n",
       "  </tbody>\n",
       "</table>\n",
       "</div>"
      ],
      "text/plain": [
       "   Measurement date  Station code  Item code  Average value  Instrument status\n",
       "0  2017-01-01 00:00           101          1          0.004                  0\n",
       "1  2017-01-01 00:00           101          3          0.059                  0\n",
       "2  2017-01-01 00:00           101          5          1.200                  0\n",
       "3  2017-01-01 00:00           101          6          0.002                  0\n",
       "4  2017-01-01 00:00           101          8         73.000                  0"
      ]
     },
     "execution_count": 63,
     "metadata": {},
     "output_type": "execute_result"
    }
   ],
   "source": [
    "path1=\"C:/Users/dell/Downloads/Measurement_info.csv\"\n",
    "df_meas_info = pd.read_csv(path1)\n",
    "df_meas_info.head()"
   ]
  },
  {
   "cell_type": "code",
   "execution_count": 64,
   "metadata": {},
   "outputs": [
    {
     "data": {
      "text/html": [
       "<div>\n",
       "<style scoped>\n",
       "    .dataframe tbody tr th:only-of-type {\n",
       "        vertical-align: middle;\n",
       "    }\n",
       "\n",
       "    .dataframe tbody tr th {\n",
       "        vertical-align: top;\n",
       "    }\n",
       "\n",
       "    .dataframe thead th {\n",
       "        text-align: right;\n",
       "    }\n",
       "</style>\n",
       "<table border=\"1\" class=\"dataframe\">\n",
       "  <thead>\n",
       "    <tr style=\"text-align: right;\">\n",
       "      <th></th>\n",
       "      <th>Item code</th>\n",
       "      <th>Item name</th>\n",
       "      <th>Unit of measurement</th>\n",
       "      <th>Good(Blue)</th>\n",
       "      <th>Normal(Green)</th>\n",
       "      <th>Bad(Yellow)</th>\n",
       "      <th>Very bad(Red)</th>\n",
       "    </tr>\n",
       "  </thead>\n",
       "  <tbody>\n",
       "    <tr>\n",
       "      <th>0</th>\n",
       "      <td>1</td>\n",
       "      <td>SO2</td>\n",
       "      <td>ppm</td>\n",
       "      <td>0.02</td>\n",
       "      <td>0.05</td>\n",
       "      <td>0.15</td>\n",
       "      <td>1.0</td>\n",
       "    </tr>\n",
       "    <tr>\n",
       "      <th>1</th>\n",
       "      <td>3</td>\n",
       "      <td>NO2</td>\n",
       "      <td>ppm</td>\n",
       "      <td>0.03</td>\n",
       "      <td>0.06</td>\n",
       "      <td>0.20</td>\n",
       "      <td>2.0</td>\n",
       "    </tr>\n",
       "    <tr>\n",
       "      <th>2</th>\n",
       "      <td>5</td>\n",
       "      <td>CO</td>\n",
       "      <td>ppm</td>\n",
       "      <td>2.00</td>\n",
       "      <td>9.00</td>\n",
       "      <td>15.00</td>\n",
       "      <td>50.0</td>\n",
       "    </tr>\n",
       "    <tr>\n",
       "      <th>3</th>\n",
       "      <td>6</td>\n",
       "      <td>O3</td>\n",
       "      <td>ppm</td>\n",
       "      <td>0.03</td>\n",
       "      <td>0.09</td>\n",
       "      <td>0.15</td>\n",
       "      <td>0.5</td>\n",
       "    </tr>\n",
       "    <tr>\n",
       "      <th>4</th>\n",
       "      <td>8</td>\n",
       "      <td>PM10</td>\n",
       "      <td>Mircrogram/m3</td>\n",
       "      <td>30.00</td>\n",
       "      <td>80.00</td>\n",
       "      <td>150.00</td>\n",
       "      <td>600.0</td>\n",
       "    </tr>\n",
       "  </tbody>\n",
       "</table>\n",
       "</div>"
      ],
      "text/plain": [
       "   Item code Item name Unit of measurement  Good(Blue)  Normal(Green)  \\\n",
       "0          1       SO2                 ppm        0.02           0.05   \n",
       "1          3       NO2                 ppm        0.03           0.06   \n",
       "2          5        CO                 ppm        2.00           9.00   \n",
       "3          6        O3                 ppm        0.03           0.09   \n",
       "4          8      PM10       Mircrogram/m3       30.00          80.00   \n",
       "\n",
       "   Bad(Yellow)  Very bad(Red)  \n",
       "0         0.15            1.0  \n",
       "1         0.20            2.0  \n",
       "2        15.00           50.0  \n",
       "3         0.15            0.5  \n",
       "4       150.00          600.0  "
      ]
     },
     "execution_count": 64,
     "metadata": {},
     "output_type": "execute_result"
    }
   ],
   "source": [
    "path2=\"C:/Users/dell/Downloads/Measurement_item_info.csv\"\n",
    "df_meas_item = pd.read_csv(path2)\n",
    "df_meas_item.head()"
   ]
  },
  {
   "cell_type": "code",
   "execution_count": 65,
   "metadata": {},
   "outputs": [
    {
     "data": {
      "text/html": [
       "<div>\n",
       "<style scoped>\n",
       "    .dataframe tbody tr th:only-of-type {\n",
       "        vertical-align: middle;\n",
       "    }\n",
       "\n",
       "    .dataframe tbody tr th {\n",
       "        vertical-align: top;\n",
       "    }\n",
       "\n",
       "    .dataframe thead th {\n",
       "        text-align: right;\n",
       "    }\n",
       "</style>\n",
       "<table border=\"1\" class=\"dataframe\">\n",
       "  <thead>\n",
       "    <tr style=\"text-align: right;\">\n",
       "      <th></th>\n",
       "      <th>Station code</th>\n",
       "      <th>Station name(district)</th>\n",
       "      <th>Address</th>\n",
       "      <th>Latitude</th>\n",
       "      <th>Longitude</th>\n",
       "    </tr>\n",
       "  </thead>\n",
       "  <tbody>\n",
       "    <tr>\n",
       "      <th>0</th>\n",
       "      <td>101</td>\n",
       "      <td>Jongno-gu</td>\n",
       "      <td>19, Jong-ro 35ga-gil, Jongno-gu, Seoul, Republ...</td>\n",
       "      <td>37.572016</td>\n",
       "      <td>127.005008</td>\n",
       "    </tr>\n",
       "    <tr>\n",
       "      <th>1</th>\n",
       "      <td>102</td>\n",
       "      <td>Jung-gu</td>\n",
       "      <td>15, Deoksugung-gil, Jung-gu, Seoul, Republic o...</td>\n",
       "      <td>37.564263</td>\n",
       "      <td>126.974676</td>\n",
       "    </tr>\n",
       "    <tr>\n",
       "      <th>2</th>\n",
       "      <td>103</td>\n",
       "      <td>Yongsan-gu</td>\n",
       "      <td>136, Hannam-daero, Yongsan-gu, Seoul, Republic...</td>\n",
       "      <td>37.540033</td>\n",
       "      <td>127.004850</td>\n",
       "    </tr>\n",
       "    <tr>\n",
       "      <th>3</th>\n",
       "      <td>104</td>\n",
       "      <td>Eunpyeong-gu</td>\n",
       "      <td>215, Jinheung-ro, Eunpyeong-gu, Seoul, Republi...</td>\n",
       "      <td>37.609823</td>\n",
       "      <td>126.934848</td>\n",
       "    </tr>\n",
       "    <tr>\n",
       "      <th>4</th>\n",
       "      <td>105</td>\n",
       "      <td>Seodaemun-gu</td>\n",
       "      <td>32, Segeomjeong-ro 4-gil, Seodaemun-gu, Seoul,...</td>\n",
       "      <td>37.593742</td>\n",
       "      <td>126.949679</td>\n",
       "    </tr>\n",
       "  </tbody>\n",
       "</table>\n",
       "</div>"
      ],
      "text/plain": [
       "   Station code Station name(district)  \\\n",
       "0           101              Jongno-gu   \n",
       "1           102                Jung-gu   \n",
       "2           103             Yongsan-gu   \n",
       "3           104           Eunpyeong-gu   \n",
       "4           105           Seodaemun-gu   \n",
       "\n",
       "                                             Address   Latitude   Longitude  \n",
       "0  19, Jong-ro 35ga-gil, Jongno-gu, Seoul, Republ...  37.572016  127.005008  \n",
       "1  15, Deoksugung-gil, Jung-gu, Seoul, Republic o...  37.564263  126.974676  \n",
       "2  136, Hannam-daero, Yongsan-gu, Seoul, Republic...  37.540033  127.004850  \n",
       "3  215, Jinheung-ro, Eunpyeong-gu, Seoul, Republi...  37.609823  126.934848  \n",
       "4  32, Segeomjeong-ro 4-gil, Seodaemun-gu, Seoul,...  37.593742  126.949679  "
      ]
     },
     "execution_count": 65,
     "metadata": {},
     "output_type": "execute_result"
    }
   ],
   "source": [
    "path3=\"C:/Users/dell/Downloads/Measurement_station_info.csv\"\n",
    "df_meas_station = pd.read_csv(path3)\n",
    "df_meas_station.head()"
   ]
  },
  {
   "cell_type": "code",
   "execution_count": 66,
   "metadata": {},
   "outputs": [
    {
     "data": {
      "text/html": [
       "<div>\n",
       "<style scoped>\n",
       "    .dataframe tbody tr th:only-of-type {\n",
       "        vertical-align: middle;\n",
       "    }\n",
       "\n",
       "    .dataframe tbody tr th {\n",
       "        vertical-align: top;\n",
       "    }\n",
       "\n",
       "    .dataframe thead th {\n",
       "        text-align: right;\n",
       "    }\n",
       "</style>\n",
       "<table border=\"1\" class=\"dataframe\">\n",
       "  <thead>\n",
       "    <tr style=\"text-align: right;\">\n",
       "      <th></th>\n",
       "      <th>Measurement date</th>\n",
       "      <th>Station code</th>\n",
       "      <th>Address</th>\n",
       "      <th>Latitude</th>\n",
       "      <th>Longitude</th>\n",
       "      <th>SO2</th>\n",
       "      <th>NO2</th>\n",
       "      <th>O3</th>\n",
       "      <th>CO</th>\n",
       "      <th>PM10</th>\n",
       "      <th>PM2.5</th>\n",
       "    </tr>\n",
       "  </thead>\n",
       "  <tbody>\n",
       "    <tr>\n",
       "      <th>0</th>\n",
       "      <td>2017-01-01 00:00</td>\n",
       "      <td>101</td>\n",
       "      <td>19, Jong-ro 35ga-gil, Jongno-gu, Seoul, Republ...</td>\n",
       "      <td>37.572016</td>\n",
       "      <td>127.005007</td>\n",
       "      <td>0.004</td>\n",
       "      <td>0.059</td>\n",
       "      <td>0.002</td>\n",
       "      <td>1.2</td>\n",
       "      <td>73.0</td>\n",
       "      <td>57.0</td>\n",
       "    </tr>\n",
       "    <tr>\n",
       "      <th>1</th>\n",
       "      <td>2017-01-01 01:00</td>\n",
       "      <td>101</td>\n",
       "      <td>19, Jong-ro 35ga-gil, Jongno-gu, Seoul, Republ...</td>\n",
       "      <td>37.572016</td>\n",
       "      <td>127.005007</td>\n",
       "      <td>0.004</td>\n",
       "      <td>0.058</td>\n",
       "      <td>0.002</td>\n",
       "      <td>1.2</td>\n",
       "      <td>71.0</td>\n",
       "      <td>59.0</td>\n",
       "    </tr>\n",
       "    <tr>\n",
       "      <th>2</th>\n",
       "      <td>2017-01-01 02:00</td>\n",
       "      <td>101</td>\n",
       "      <td>19, Jong-ro 35ga-gil, Jongno-gu, Seoul, Republ...</td>\n",
       "      <td>37.572016</td>\n",
       "      <td>127.005007</td>\n",
       "      <td>0.004</td>\n",
       "      <td>0.056</td>\n",
       "      <td>0.002</td>\n",
       "      <td>1.2</td>\n",
       "      <td>70.0</td>\n",
       "      <td>59.0</td>\n",
       "    </tr>\n",
       "    <tr>\n",
       "      <th>3</th>\n",
       "      <td>2017-01-01 03:00</td>\n",
       "      <td>101</td>\n",
       "      <td>19, Jong-ro 35ga-gil, Jongno-gu, Seoul, Republ...</td>\n",
       "      <td>37.572016</td>\n",
       "      <td>127.005007</td>\n",
       "      <td>0.004</td>\n",
       "      <td>0.056</td>\n",
       "      <td>0.002</td>\n",
       "      <td>1.2</td>\n",
       "      <td>70.0</td>\n",
       "      <td>58.0</td>\n",
       "    </tr>\n",
       "    <tr>\n",
       "      <th>4</th>\n",
       "      <td>2017-01-01 04:00</td>\n",
       "      <td>101</td>\n",
       "      <td>19, Jong-ro 35ga-gil, Jongno-gu, Seoul, Republ...</td>\n",
       "      <td>37.572016</td>\n",
       "      <td>127.005007</td>\n",
       "      <td>0.003</td>\n",
       "      <td>0.051</td>\n",
       "      <td>0.002</td>\n",
       "      <td>1.2</td>\n",
       "      <td>69.0</td>\n",
       "      <td>61.0</td>\n",
       "    </tr>\n",
       "  </tbody>\n",
       "</table>\n",
       "</div>"
      ],
      "text/plain": [
       "   Measurement date  Station code  \\\n",
       "0  2017-01-01 00:00           101   \n",
       "1  2017-01-01 01:00           101   \n",
       "2  2017-01-01 02:00           101   \n",
       "3  2017-01-01 03:00           101   \n",
       "4  2017-01-01 04:00           101   \n",
       "\n",
       "                                             Address   Latitude   Longitude  \\\n",
       "0  19, Jong-ro 35ga-gil, Jongno-gu, Seoul, Republ...  37.572016  127.005007   \n",
       "1  19, Jong-ro 35ga-gil, Jongno-gu, Seoul, Republ...  37.572016  127.005007   \n",
       "2  19, Jong-ro 35ga-gil, Jongno-gu, Seoul, Republ...  37.572016  127.005007   \n",
       "3  19, Jong-ro 35ga-gil, Jongno-gu, Seoul, Republ...  37.572016  127.005007   \n",
       "4  19, Jong-ro 35ga-gil, Jongno-gu, Seoul, Republ...  37.572016  127.005007   \n",
       "\n",
       "     SO2    NO2     O3   CO  PM10  PM2.5  \n",
       "0  0.004  0.059  0.002  1.2  73.0   57.0  \n",
       "1  0.004  0.058  0.002  1.2  71.0   59.0  \n",
       "2  0.004  0.056  0.002  1.2  70.0   59.0  \n",
       "3  0.004  0.056  0.002  1.2  70.0   58.0  \n",
       "4  0.003  0.051  0.002  1.2  69.0   61.0  "
      ]
     },
     "execution_count": 66,
     "metadata": {},
     "output_type": "execute_result"
    }
   ],
   "source": [
    "path4=\"C:/Users/dell/Downloads/Measurement_summary.csv\"\n",
    "df_summary = pd.read_csv(path4)\n",
    "df_summary.head()"
   ]
  },
  {
   "cell_type": "markdown",
   "metadata": {},
   "source": [
    "# See how many missing value we have:"
   ]
  },
  {
   "cell_type": "code",
   "execution_count": 67,
   "metadata": {},
   "outputs": [
    {
     "name": "stdout",
     "output_type": "stream",
     "text": [
      "Measurement date    0\n",
      "Station code        0\n",
      "Address             0\n",
      "Latitude            0\n",
      "Longitude           0\n",
      "SO2                 0\n",
      "NO2                 0\n",
      "O3                  0\n",
      "CO                  0\n",
      "PM10                0\n",
      "PM2.5               0\n",
      "dtype: int64\n"
     ]
    }
   ],
   "source": [
    "# get the number of missing data points per column\n",
    "print(df_summary.isnull().sum())"
   ]
  },
  {
   "cell_type": "code",
   "execution_count": 68,
   "metadata": {},
   "outputs": [
    {
     "name": "stdout",
     "output_type": "stream",
     "text": [
      "Measurement date     0\n",
      "Station code         0\n",
      "Item code            0\n",
      "Average value        0\n",
      "Instrument status    0\n",
      "dtype: int64\n"
     ]
    }
   ],
   "source": [
    "print(df_meas_info.isnull().sum())"
   ]
  },
  {
   "cell_type": "code",
   "execution_count": 69,
   "metadata": {},
   "outputs": [
    {
     "name": "stdout",
     "output_type": "stream",
     "text": [
      "Item code              0\n",
      "Item name              0\n",
      "Unit of measurement    0\n",
      "Good(Blue)             0\n",
      "Normal(Green)          0\n",
      "Bad(Yellow)            0\n",
      "Very bad(Red)          0\n",
      "dtype: int64\n"
     ]
    }
   ],
   "source": [
    "print(df_meas_item.isnull().sum())"
   ]
  },
  {
   "cell_type": "code",
   "execution_count": 70,
   "metadata": {},
   "outputs": [
    {
     "name": "stdout",
     "output_type": "stream",
     "text": [
      "Station code              0\n",
      "Station name(district)    0\n",
      "Address                   0\n",
      "Latitude                  0\n",
      "Longitude                 0\n",
      "dtype: int64\n"
     ]
    }
   ],
   "source": [
    "print(df_meas_station.isnull().sum())"
   ]
  },
  {
   "cell_type": "markdown",
   "metadata": {},
   "source": [
    "That seems like a no problem about missing data. It helpful to process to clen data."
   ]
  },
  {
   "cell_type": "markdown",
   "metadata": {},
   "source": [
    "# Data Pre-Processing & Visualization"
   ]
  },
  {
   "cell_type": "code",
   "execution_count": 71,
   "metadata": {},
   "outputs": [
    {
     "data": {
      "text/html": [
       "<div>\n",
       "<style scoped>\n",
       "    .dataframe tbody tr th:only-of-type {\n",
       "        vertical-align: middle;\n",
       "    }\n",
       "\n",
       "    .dataframe tbody tr th {\n",
       "        vertical-align: top;\n",
       "    }\n",
       "\n",
       "    .dataframe thead th {\n",
       "        text-align: right;\n",
       "    }\n",
       "</style>\n",
       "<table border=\"1\" class=\"dataframe\">\n",
       "  <thead>\n",
       "    <tr style=\"text-align: right;\">\n",
       "      <th></th>\n",
       "      <th>0</th>\n",
       "      <th>1</th>\n",
       "    </tr>\n",
       "  </thead>\n",
       "  <tbody>\n",
       "    <tr>\n",
       "      <th>0</th>\n",
       "      <td>2017-01-01</td>\n",
       "      <td>00:00</td>\n",
       "    </tr>\n",
       "    <tr>\n",
       "      <th>1</th>\n",
       "      <td>2017-01-01</td>\n",
       "      <td>01:00</td>\n",
       "    </tr>\n",
       "    <tr>\n",
       "      <th>2</th>\n",
       "      <td>2017-01-01</td>\n",
       "      <td>02:00</td>\n",
       "    </tr>\n",
       "    <tr>\n",
       "      <th>3</th>\n",
       "      <td>2017-01-01</td>\n",
       "      <td>03:00</td>\n",
       "    </tr>\n",
       "    <tr>\n",
       "      <th>4</th>\n",
       "      <td>2017-01-01</td>\n",
       "      <td>04:00</td>\n",
       "    </tr>\n",
       "  </tbody>\n",
       "</table>\n",
       "</div>"
      ],
      "text/plain": [
       "            0      1\n",
       "0  2017-01-01  00:00\n",
       "1  2017-01-01  01:00\n",
       "2  2017-01-01  02:00\n",
       "3  2017-01-01  03:00\n",
       "4  2017-01-01  04:00"
      ]
     },
     "execution_count": 71,
     "metadata": {},
     "output_type": "execute_result"
    }
   ],
   "source": [
    "date_time = df_summary['Measurement date'].str.split(\" \", n=1, expand=True)\n",
    "date_time.head()"
   ]
  },
  {
   "cell_type": "code",
   "execution_count": 72,
   "metadata": {},
   "outputs": [
    {
     "data": {
      "text/html": [
       "<div>\n",
       "<style scoped>\n",
       "    .dataframe tbody tr th:only-of-type {\n",
       "        vertical-align: middle;\n",
       "    }\n",
       "\n",
       "    .dataframe tbody tr th {\n",
       "        vertical-align: top;\n",
       "    }\n",
       "\n",
       "    .dataframe thead th {\n",
       "        text-align: right;\n",
       "    }\n",
       "</style>\n",
       "<table border=\"1\" class=\"dataframe\">\n",
       "  <thead>\n",
       "    <tr style=\"text-align: right;\">\n",
       "      <th></th>\n",
       "      <th>Station code</th>\n",
       "      <th>Address</th>\n",
       "      <th>Latitude</th>\n",
       "      <th>Longitude</th>\n",
       "      <th>SO2</th>\n",
       "      <th>NO2</th>\n",
       "      <th>O3</th>\n",
       "      <th>CO</th>\n",
       "      <th>PM10</th>\n",
       "      <th>PM2.5</th>\n",
       "      <th>date</th>\n",
       "      <th>time</th>\n",
       "    </tr>\n",
       "  </thead>\n",
       "  <tbody>\n",
       "    <tr>\n",
       "      <th>0</th>\n",
       "      <td>101</td>\n",
       "      <td>19, Jong-ro 35ga-gil, Jongno-gu, Seoul, Republ...</td>\n",
       "      <td>37.572016</td>\n",
       "      <td>127.005007</td>\n",
       "      <td>0.004</td>\n",
       "      <td>0.059</td>\n",
       "      <td>0.002</td>\n",
       "      <td>1.2</td>\n",
       "      <td>73.0</td>\n",
       "      <td>57.0</td>\n",
       "      <td>2017-01-01</td>\n",
       "      <td>00:00</td>\n",
       "    </tr>\n",
       "    <tr>\n",
       "      <th>1</th>\n",
       "      <td>101</td>\n",
       "      <td>19, Jong-ro 35ga-gil, Jongno-gu, Seoul, Republ...</td>\n",
       "      <td>37.572016</td>\n",
       "      <td>127.005007</td>\n",
       "      <td>0.004</td>\n",
       "      <td>0.058</td>\n",
       "      <td>0.002</td>\n",
       "      <td>1.2</td>\n",
       "      <td>71.0</td>\n",
       "      <td>59.0</td>\n",
       "      <td>2017-01-01</td>\n",
       "      <td>01:00</td>\n",
       "    </tr>\n",
       "    <tr>\n",
       "      <th>2</th>\n",
       "      <td>101</td>\n",
       "      <td>19, Jong-ro 35ga-gil, Jongno-gu, Seoul, Republ...</td>\n",
       "      <td>37.572016</td>\n",
       "      <td>127.005007</td>\n",
       "      <td>0.004</td>\n",
       "      <td>0.056</td>\n",
       "      <td>0.002</td>\n",
       "      <td>1.2</td>\n",
       "      <td>70.0</td>\n",
       "      <td>59.0</td>\n",
       "      <td>2017-01-01</td>\n",
       "      <td>02:00</td>\n",
       "    </tr>\n",
       "    <tr>\n",
       "      <th>3</th>\n",
       "      <td>101</td>\n",
       "      <td>19, Jong-ro 35ga-gil, Jongno-gu, Seoul, Republ...</td>\n",
       "      <td>37.572016</td>\n",
       "      <td>127.005007</td>\n",
       "      <td>0.004</td>\n",
       "      <td>0.056</td>\n",
       "      <td>0.002</td>\n",
       "      <td>1.2</td>\n",
       "      <td>70.0</td>\n",
       "      <td>58.0</td>\n",
       "      <td>2017-01-01</td>\n",
       "      <td>03:00</td>\n",
       "    </tr>\n",
       "    <tr>\n",
       "      <th>4</th>\n",
       "      <td>101</td>\n",
       "      <td>19, Jong-ro 35ga-gil, Jongno-gu, Seoul, Republ...</td>\n",
       "      <td>37.572016</td>\n",
       "      <td>127.005007</td>\n",
       "      <td>0.003</td>\n",
       "      <td>0.051</td>\n",
       "      <td>0.002</td>\n",
       "      <td>1.2</td>\n",
       "      <td>69.0</td>\n",
       "      <td>61.0</td>\n",
       "      <td>2017-01-01</td>\n",
       "      <td>04:00</td>\n",
       "    </tr>\n",
       "  </tbody>\n",
       "</table>\n",
       "</div>"
      ],
      "text/plain": [
       "   Station code                                            Address   Latitude  \\\n",
       "0           101  19, Jong-ro 35ga-gil, Jongno-gu, Seoul, Republ...  37.572016   \n",
       "1           101  19, Jong-ro 35ga-gil, Jongno-gu, Seoul, Republ...  37.572016   \n",
       "2           101  19, Jong-ro 35ga-gil, Jongno-gu, Seoul, Republ...  37.572016   \n",
       "3           101  19, Jong-ro 35ga-gil, Jongno-gu, Seoul, Republ...  37.572016   \n",
       "4           101  19, Jong-ro 35ga-gil, Jongno-gu, Seoul, Republ...  37.572016   \n",
       "\n",
       "    Longitude    SO2    NO2     O3   CO  PM10  PM2.5        date   time  \n",
       "0  127.005007  0.004  0.059  0.002  1.2  73.0   57.0  2017-01-01  00:00  \n",
       "1  127.005007  0.004  0.058  0.002  1.2  71.0   59.0  2017-01-01  01:00  \n",
       "2  127.005007  0.004  0.056  0.002  1.2  70.0   59.0  2017-01-01  02:00  \n",
       "3  127.005007  0.004  0.056  0.002  1.2  70.0   58.0  2017-01-01  03:00  \n",
       "4  127.005007  0.003  0.051  0.002  1.2  69.0   61.0  2017-01-01  04:00  "
      ]
     },
     "execution_count": 72,
     "metadata": {},
     "output_type": "execute_result"
    }
   ],
   "source": [
    "df_summary['date'] = date_time[0]\n",
    "df_summary['time']= date_time[1]\n",
    "df_summary = df_summary.drop(['Measurement date'], axis=1)\n",
    "df_summary.head()"
   ]
  },
  {
   "cell_type": "code",
   "execution_count": 73,
   "metadata": {},
   "outputs": [
    {
     "data": {
      "text/html": [
       "<div>\n",
       "<style scoped>\n",
       "    .dataframe tbody tr th:only-of-type {\n",
       "        vertical-align: middle;\n",
       "    }\n",
       "\n",
       "    .dataframe tbody tr th {\n",
       "        vertical-align: top;\n",
       "    }\n",
       "\n",
       "    .dataframe thead th {\n",
       "        text-align: right;\n",
       "    }\n",
       "</style>\n",
       "<table border=\"1\" class=\"dataframe\">\n",
       "  <thead>\n",
       "    <tr style=\"text-align: right;\">\n",
       "      <th></th>\n",
       "      <th>date</th>\n",
       "      <th>SO2</th>\n",
       "      <th>NO2</th>\n",
       "      <th>O3</th>\n",
       "      <th>CO</th>\n",
       "      <th>PM10</th>\n",
       "      <th>PM2.5</th>\n",
       "    </tr>\n",
       "  </thead>\n",
       "  <tbody>\n",
       "    <tr>\n",
       "      <th>0</th>\n",
       "      <td>2017-01-01</td>\n",
       "      <td>0.003627</td>\n",
       "      <td>0.044765</td>\n",
       "      <td>0.002478</td>\n",
       "      <td>0.981833</td>\n",
       "      <td>77.201667</td>\n",
       "      <td>56.773333</td>\n",
       "    </tr>\n",
       "    <tr>\n",
       "      <th>1</th>\n",
       "      <td>2017-01-02</td>\n",
       "      <td>0.002707</td>\n",
       "      <td>0.035960</td>\n",
       "      <td>0.013127</td>\n",
       "      <td>0.891333</td>\n",
       "      <td>109.243333</td>\n",
       "      <td>77.838333</td>\n",
       "    </tr>\n",
       "    <tr>\n",
       "      <th>2</th>\n",
       "      <td>2017-01-03</td>\n",
       "      <td>0.000602</td>\n",
       "      <td>0.037017</td>\n",
       "      <td>0.008223</td>\n",
       "      <td>0.753833</td>\n",
       "      <td>78.546667</td>\n",
       "      <td>51.533333</td>\n",
       "    </tr>\n",
       "    <tr>\n",
       "      <th>3</th>\n",
       "      <td>2017-01-04</td>\n",
       "      <td>0.004122</td>\n",
       "      <td>0.048813</td>\n",
       "      <td>0.006918</td>\n",
       "      <td>0.878500</td>\n",
       "      <td>54.966667</td>\n",
       "      <td>34.533333</td>\n",
       "    </tr>\n",
       "    <tr>\n",
       "      <th>4</th>\n",
       "      <td>2017-01-05</td>\n",
       "      <td>0.003122</td>\n",
       "      <td>0.033892</td>\n",
       "      <td>0.009725</td>\n",
       "      <td>0.656333</td>\n",
       "      <td>36.246667</td>\n",
       "      <td>22.168333</td>\n",
       "    </tr>\n",
       "  </tbody>\n",
       "</table>\n",
       "</div>"
      ],
      "text/plain": [
       "         date       SO2       NO2        O3        CO        PM10      PM2.5\n",
       "0  2017-01-01  0.003627  0.044765  0.002478  0.981833   77.201667  56.773333\n",
       "1  2017-01-02  0.002707  0.035960  0.013127  0.891333  109.243333  77.838333\n",
       "2  2017-01-03  0.000602  0.037017  0.008223  0.753833   78.546667  51.533333\n",
       "3  2017-01-04  0.004122  0.048813  0.006918  0.878500   54.966667  34.533333\n",
       "4  2017-01-05  0.003122  0.033892  0.009725  0.656333   36.246667  22.168333"
      ]
     },
     "execution_count": 73,
     "metadata": {},
     "output_type": "execute_result"
    }
   ],
   "source": [
    "df_seoul = df_summary.groupby(['date'], as_index=False).agg({'SO2':'mean', 'NO2':'mean', 'O3':'mean', 'CO':'mean', 'PM10':'mean', 'PM2.5':'mean'})\n",
    "df_seoul.head()"
   ]
  },
  {
   "cell_type": "code",
   "execution_count": 74,
   "metadata": {},
   "outputs": [
    {
     "data": {
      "text/plain": [
       "<matplotlib.axes._subplots.AxesSubplot at 0x1ebaeba8a90>"
      ]
     },
     "execution_count": 74,
     "metadata": {},
     "output_type": "execute_result"
    },
    {
     "data": {
      "image/png": "[encoded data removed]",
      "text/plain": [
       "<Figure size 432x288 with 1 Axes>"
      ]
     },
     "metadata": {
      "needs_background": "light"
     },
     "output_type": "display_data"
    }
   ],
   "source": [
    "df_seoul.plot(x='date')"
   ]
  },
  {
   "cell_type": "code",
   "execution_count": 75,
   "metadata": {},
   "outputs": [
    {
     "data": {
      "text/plain": [
       "<matplotlib.axes._subplots.AxesSubplot at 0x1ebc682fb38>"
      ]
     },
     "execution_count": 75,
     "metadata": {},
     "output_type": "execute_result"
    },
    {
     "data": {
      "image/png": "[encoded data removed]",
      "text/plain": [
       "<Figure size 792x648 with 2 Axes>"
      ]
     },
     "metadata": {
      "needs_background": "light"
     },
     "output_type": "display_data"
    }
   ],
   "source": [
    "corr = df_seoul.corr()\n",
    "f, ax = plt.subplots(figsize=(11, 9))\n",
    "cmap = sns.diverging_palette(220, 10, as_cmap=True)\n",
    "sns.heatmap(corr, cmap=cmap, vmax=1, center=0,\n",
    "            square=True, linewidths=.5, cbar_kws={\"shrink\": .5})\n"
   ]
  },
  {
   "cell_type": "code",
   "execution_count": 76,
   "metadata": {},
   "outputs": [
    {
     "data": {
      "text/html": [
       "<div>\n",
       "<style scoped>\n",
       "    .dataframe tbody tr th:only-of-type {\n",
       "        vertical-align: middle;\n",
       "    }\n",
       "\n",
       "    .dataframe tbody tr th {\n",
       "        vertical-align: top;\n",
       "    }\n",
       "\n",
       "    .dataframe thead th {\n",
       "        text-align: right;\n",
       "    }\n",
       "</style>\n",
       "<table border=\"1\" class=\"dataframe\">\n",
       "  <thead>\n",
       "    <tr style=\"text-align: right;\">\n",
       "      <th></th>\n",
       "      <th>date</th>\n",
       "      <th>SO2</th>\n",
       "      <th>NO2</th>\n",
       "      <th>O3</th>\n",
       "      <th>CO</th>\n",
       "      <th>PM10</th>\n",
       "      <th>PM2.5</th>\n",
       "      <th>PM10_class</th>\n",
       "    </tr>\n",
       "  </thead>\n",
       "  <tbody>\n",
       "    <tr>\n",
       "      <th>0</th>\n",
       "      <td>2017-01-01</td>\n",
       "      <td>0.003627</td>\n",
       "      <td>0.044765</td>\n",
       "      <td>0.002478</td>\n",
       "      <td>0.981833</td>\n",
       "      <td>77.201667</td>\n",
       "      <td>56.773333</td>\n",
       "      <td>1</td>\n",
       "    </tr>\n",
       "    <tr>\n",
       "      <th>1</th>\n",
       "      <td>2017-01-02</td>\n",
       "      <td>0.002707</td>\n",
       "      <td>0.035960</td>\n",
       "      <td>0.013127</td>\n",
       "      <td>0.891333</td>\n",
       "      <td>109.243333</td>\n",
       "      <td>77.838333</td>\n",
       "      <td>2</td>\n",
       "    </tr>\n",
       "    <tr>\n",
       "      <th>2</th>\n",
       "      <td>2017-01-03</td>\n",
       "      <td>0.000602</td>\n",
       "      <td>0.037017</td>\n",
       "      <td>0.008223</td>\n",
       "      <td>0.753833</td>\n",
       "      <td>78.546667</td>\n",
       "      <td>51.533333</td>\n",
       "      <td>1</td>\n",
       "    </tr>\n",
       "    <tr>\n",
       "      <th>3</th>\n",
       "      <td>2017-01-04</td>\n",
       "      <td>0.004122</td>\n",
       "      <td>0.048813</td>\n",
       "      <td>0.006918</td>\n",
       "      <td>0.878500</td>\n",
       "      <td>54.966667</td>\n",
       "      <td>34.533333</td>\n",
       "      <td>1</td>\n",
       "    </tr>\n",
       "    <tr>\n",
       "      <th>4</th>\n",
       "      <td>2017-01-05</td>\n",
       "      <td>0.003122</td>\n",
       "      <td>0.033892</td>\n",
       "      <td>0.009725</td>\n",
       "      <td>0.656333</td>\n",
       "      <td>36.246667</td>\n",
       "      <td>22.168333</td>\n",
       "      <td>1</td>\n",
       "    </tr>\n",
       "  </tbody>\n",
       "</table>\n",
       "</div>"
      ],
      "text/plain": [
       "         date       SO2       NO2        O3        CO        PM10      PM2.5  \\\n",
       "0  2017-01-01  0.003627  0.044765  0.002478  0.981833   77.201667  56.773333   \n",
       "1  2017-01-02  0.002707  0.035960  0.013127  0.891333  109.243333  77.838333   \n",
       "2  2017-01-03  0.000602  0.037017  0.008223  0.753833   78.546667  51.533333   \n",
       "3  2017-01-04  0.004122  0.048813  0.006918  0.878500   54.966667  34.533333   \n",
       "4  2017-01-05  0.003122  0.033892  0.009725  0.656333   36.246667  22.168333   \n",
       "\n",
       "   PM10_class  \n",
       "0           1  \n",
       "1           2  \n",
       "2           1  \n",
       "3           1  \n",
       "4           1  "
      ]
     },
     "execution_count": 76,
     "metadata": {},
     "output_type": "execute_result"
    }
   ],
   "source": [
    "df_seoul['PM10_class'] = -1\n",
    "for (idx, row) in df_seoul.iterrows():\n",
    "    pm10 = row[5]\n",
    "    _class = -1\n",
    "    if pm10 < 0:\n",
    "        continue\n",
    "    elif pm10 < 30:\n",
    "        _class = 0\n",
    "    elif pm10 < 80:\n",
    "        _class = 1\n",
    "    elif pm10 < 150:\n",
    "        _class = 2\n",
    "    else:\n",
    "        _class = 3\n",
    "    df_seoul.loc[idx, 'PM10_class'] = _class\n",
    "df_seoul.head()"
   ]
  },
  {
   "cell_type": "code",
   "execution_count": 77,
   "metadata": {},
   "outputs": [
    {
     "data": {
      "text/plain": [
       "<matplotlib.axes._subplots.AxesSubplot at 0x1ebc5df2978>"
      ]
     },
     "execution_count": 77,
     "metadata": {},
     "output_type": "execute_result"
    },
    {
     "data": {
      "image/png": "[encoded data removed]",
      "text/plain": [
       "<Figure size 432x288 with 1 Axes>"
      ]
     },
     "metadata": {
      "needs_background": "light"
     },
     "output_type": "display_data"
    }
   ],
   "source": [
    "df_seoul['PM10_class'].value_counts().plot(kind=\"bar\")"
   ]
  },
  {
   "cell_type": "code",
   "execution_count": 103,
   "metadata": {},
   "outputs": [],
   "source": [
    "df_seoul[\"PM2.5_class\"]=-1\n",
    "for (idx,row) in df_seoul.iterrows():\n",
    "    pm=row[6]\n",
    "    _class=-1\n",
    "    if pm< 0:\n",
    "        continue\n",
    "    elif pm<10:\n",
    "        _class=0\n",
    "    elif pm<25:\n",
    "        _class=1\n",
    "    elif pm<80:\n",
    "        _class=2\n",
    "    else:\n",
    "        _class=3\n",
    "    df_seoul.loc[idx,'PM2.5_class']=_class"
   ]
  },
  {
   "cell_type": "code",
   "execution_count": 104,
   "metadata": {},
   "outputs": [
    {
     "data": {
      "text/html": [
       "<div>\n",
       "<style scoped>\n",
       "    .dataframe tbody tr th:only-of-type {\n",
       "        vertical-align: middle;\n",
       "    }\n",
       "\n",
       "    .dataframe tbody tr th {\n",
       "        vertical-align: top;\n",
       "    }\n",
       "\n",
       "    .dataframe thead th {\n",
       "        text-align: right;\n",
       "    }\n",
       "</style>\n",
       "<table border=\"1\" class=\"dataframe\">\n",
       "  <thead>\n",
       "    <tr style=\"text-align: right;\">\n",
       "      <th></th>\n",
       "      <th>date</th>\n",
       "      <th>SO2</th>\n",
       "      <th>NO2</th>\n",
       "      <th>O3</th>\n",
       "      <th>CO</th>\n",
       "      <th>PM10</th>\n",
       "      <th>PM2.5</th>\n",
       "      <th>PM10_class</th>\n",
       "      <th>PM2.5_class</th>\n",
       "    </tr>\n",
       "  </thead>\n",
       "  <tbody>\n",
       "    <tr>\n",
       "      <th>0</th>\n",
       "      <td>2017-01-01</td>\n",
       "      <td>0.003627</td>\n",
       "      <td>0.044765</td>\n",
       "      <td>0.002478</td>\n",
       "      <td>0.981833</td>\n",
       "      <td>77.201667</td>\n",
       "      <td>56.773333</td>\n",
       "      <td>1</td>\n",
       "      <td>2</td>\n",
       "    </tr>\n",
       "    <tr>\n",
       "      <th>1</th>\n",
       "      <td>2017-01-02</td>\n",
       "      <td>0.002707</td>\n",
       "      <td>0.035960</td>\n",
       "      <td>0.013127</td>\n",
       "      <td>0.891333</td>\n",
       "      <td>109.243333</td>\n",
       "      <td>77.838333</td>\n",
       "      <td>2</td>\n",
       "      <td>2</td>\n",
       "    </tr>\n",
       "    <tr>\n",
       "      <th>2</th>\n",
       "      <td>2017-01-03</td>\n",
       "      <td>0.000602</td>\n",
       "      <td>0.037017</td>\n",
       "      <td>0.008223</td>\n",
       "      <td>0.753833</td>\n",
       "      <td>78.546667</td>\n",
       "      <td>51.533333</td>\n",
       "      <td>1</td>\n",
       "      <td>2</td>\n",
       "    </tr>\n",
       "    <tr>\n",
       "      <th>3</th>\n",
       "      <td>2017-01-04</td>\n",
       "      <td>0.004122</td>\n",
       "      <td>0.048813</td>\n",
       "      <td>0.006918</td>\n",
       "      <td>0.878500</td>\n",
       "      <td>54.966667</td>\n",
       "      <td>34.533333</td>\n",
       "      <td>1</td>\n",
       "      <td>2</td>\n",
       "    </tr>\n",
       "    <tr>\n",
       "      <th>4</th>\n",
       "      <td>2017-01-05</td>\n",
       "      <td>0.003122</td>\n",
       "      <td>0.033892</td>\n",
       "      <td>0.009725</td>\n",
       "      <td>0.656333</td>\n",
       "      <td>36.246667</td>\n",
       "      <td>22.168333</td>\n",
       "      <td>1</td>\n",
       "      <td>1</td>\n",
       "    </tr>\n",
       "  </tbody>\n",
       "</table>\n",
       "</div>"
      ],
      "text/plain": [
       "         date       SO2       NO2        O3        CO        PM10      PM2.5  \\\n",
       "0  2017-01-01  0.003627  0.044765  0.002478  0.981833   77.201667  56.773333   \n",
       "1  2017-01-02  0.002707  0.035960  0.013127  0.891333  109.243333  77.838333   \n",
       "2  2017-01-03  0.000602  0.037017  0.008223  0.753833   78.546667  51.533333   \n",
       "3  2017-01-04  0.004122  0.048813  0.006918  0.878500   54.966667  34.533333   \n",
       "4  2017-01-05  0.003122  0.033892  0.009725  0.656333   36.246667  22.168333   \n",
       "\n",
       "   PM10_class  PM2.5_class  \n",
       "0           1            2  \n",
       "1           2            2  \n",
       "2           1            2  \n",
       "3           1            2  \n",
       "4           1            1  "
      ]
     },
     "execution_count": 104,
     "metadata": {},
     "output_type": "execute_result"
    }
   ],
   "source": [
    "df_seoul.head()"
   ]
  },
  {
   "cell_type": "code",
   "execution_count": 105,
   "metadata": {},
   "outputs": [
    {
     "data": {
      "text/plain": [
       "<matplotlib.axes._subplots.AxesSubplot at 0x1ebc59f9c50>"
      ]
     },
     "execution_count": 105,
     "metadata": {},
     "output_type": "execute_result"
    },
    {
     "data": {
      "image/png": "[encoded data removed]",
      "text/plain": [
       "<Figure size 432x288 with 1 Axes>"
      ]
     },
     "metadata": {
      "needs_background": "light"
     },
     "output_type": "display_data"
    }
   ],
   "source": [
    "df_seoul['PM2.5_class'].value_counts().plot(kind=\"bar\")"
   ]
  },
  {
   "cell_type": "code",
   "execution_count": 116,
   "metadata": {},
   "outputs": [],
   "source": [
    "df_seoul['SO2_class']=-1\n",
    "for (idx,row) in df_seoul.iterrows():\n",
    "    so=row[1]\n",
    "    _class=-1\n",
    "    if so<0:\n",
    "        continue\n",
    "    elif so<0.02:\n",
    "        _class=0\n",
    "    elif so<0.05:\n",
    "        _class=1\n",
    "    elif so<0.15:\n",
    "        _class=2\n",
    "    else:\n",
    "        _class=3\n",
    "    df_seoul.loc[idx,'SO2_class']=_class"
   ]
  },
  {
   "cell_type": "code",
   "execution_count": 119,
   "metadata": {},
   "outputs": [
    {
     "data": {
      "text/html": [
       "<div>\n",
       "<style scoped>\n",
       "    .dataframe tbody tr th:only-of-type {\n",
       "        vertical-align: middle;\n",
       "    }\n",
       "\n",
       "    .dataframe tbody tr th {\n",
       "        vertical-align: top;\n",
       "    }\n",
       "\n",
       "    .dataframe thead th {\n",
       "        text-align: right;\n",
       "    }\n",
       "</style>\n",
       "<table border=\"1\" class=\"dataframe\">\n",
       "  <thead>\n",
       "    <tr style=\"text-align: right;\">\n",
       "      <th></th>\n",
       "      <th>date</th>\n",
       "      <th>SO2</th>\n",
       "      <th>NO2</th>\n",
       "      <th>O3</th>\n",
       "      <th>CO</th>\n",
       "      <th>PM10</th>\n",
       "      <th>PM2.5</th>\n",
       "      <th>PM10_class</th>\n",
       "      <th>PM2.5_class</th>\n",
       "      <th>SO2_class</th>\n",
       "      <th>NO2_class</th>\n",
       "      <th>CO_class</th>\n",
       "    </tr>\n",
       "  </thead>\n",
       "  <tbody>\n",
       "    <tr>\n",
       "      <th>0</th>\n",
       "      <td>2017-01-01</td>\n",
       "      <td>0.003627</td>\n",
       "      <td>0.044765</td>\n",
       "      <td>0.002478</td>\n",
       "      <td>0.981833</td>\n",
       "      <td>77.201667</td>\n",
       "      <td>56.773333</td>\n",
       "      <td>1</td>\n",
       "      <td>2</td>\n",
       "      <td>0</td>\n",
       "      <td>1</td>\n",
       "      <td>0</td>\n",
       "    </tr>\n",
       "    <tr>\n",
       "      <th>1</th>\n",
       "      <td>2017-01-02</td>\n",
       "      <td>0.002707</td>\n",
       "      <td>0.035960</td>\n",
       "      <td>0.013127</td>\n",
       "      <td>0.891333</td>\n",
       "      <td>109.243333</td>\n",
       "      <td>77.838333</td>\n",
       "      <td>2</td>\n",
       "      <td>2</td>\n",
       "      <td>0</td>\n",
       "      <td>1</td>\n",
       "      <td>0</td>\n",
       "    </tr>\n",
       "    <tr>\n",
       "      <th>2</th>\n",
       "      <td>2017-01-03</td>\n",
       "      <td>0.000602</td>\n",
       "      <td>0.037017</td>\n",
       "      <td>0.008223</td>\n",
       "      <td>0.753833</td>\n",
       "      <td>78.546667</td>\n",
       "      <td>51.533333</td>\n",
       "      <td>1</td>\n",
       "      <td>2</td>\n",
       "      <td>0</td>\n",
       "      <td>1</td>\n",
       "      <td>0</td>\n",
       "    </tr>\n",
       "    <tr>\n",
       "      <th>3</th>\n",
       "      <td>2017-01-04</td>\n",
       "      <td>0.004122</td>\n",
       "      <td>0.048813</td>\n",
       "      <td>0.006918</td>\n",
       "      <td>0.878500</td>\n",
       "      <td>54.966667</td>\n",
       "      <td>34.533333</td>\n",
       "      <td>1</td>\n",
       "      <td>2</td>\n",
       "      <td>0</td>\n",
       "      <td>1</td>\n",
       "      <td>0</td>\n",
       "    </tr>\n",
       "    <tr>\n",
       "      <th>4</th>\n",
       "      <td>2017-01-05</td>\n",
       "      <td>0.003122</td>\n",
       "      <td>0.033892</td>\n",
       "      <td>0.009725</td>\n",
       "      <td>0.656333</td>\n",
       "      <td>36.246667</td>\n",
       "      <td>22.168333</td>\n",
       "      <td>1</td>\n",
       "      <td>1</td>\n",
       "      <td>0</td>\n",
       "      <td>1</td>\n",
       "      <td>0</td>\n",
       "    </tr>\n",
       "  </tbody>\n",
       "</table>\n",
       "</div>"
      ],
      "text/plain": [
       "         date       SO2       NO2        O3        CO        PM10      PM2.5  \\\n",
       "0  2017-01-01  0.003627  0.044765  0.002478  0.981833   77.201667  56.773333   \n",
       "1  2017-01-02  0.002707  0.035960  0.013127  0.891333  109.243333  77.838333   \n",
       "2  2017-01-03  0.000602  0.037017  0.008223  0.753833   78.546667  51.533333   \n",
       "3  2017-01-04  0.004122  0.048813  0.006918  0.878500   54.966667  34.533333   \n",
       "4  2017-01-05  0.003122  0.033892  0.009725  0.656333   36.246667  22.168333   \n",
       "\n",
       "   PM10_class  PM2.5_class  SO2_class  NO2_class  CO_class  \n",
       "0           1            2          0          1         0  \n",
       "1           2            2          0          1         0  \n",
       "2           1            2          0          1         0  \n",
       "3           1            2          0          1         0  \n",
       "4           1            1          0          1         0  "
      ]
     },
     "execution_count": 119,
     "metadata": {},
     "output_type": "execute_result"
    }
   ],
   "source": [
    "df_seoul.head()"
   ]
  },
  {
   "cell_type": "code",
   "execution_count": 108,
   "metadata": {},
   "outputs": [
    {
     "data": {
      "text/plain": [
       "<matplotlib.axes._subplots.AxesSubplot at 0x1ebc51ca390>"
      ]
     },
     "execution_count": 108,
     "metadata": {},
     "output_type": "execute_result"
    },
    {
     "data": {
      "image/png": "[encoded data removed]",
      "text/plain": [
       "<Figure size 432x288 with 1 Axes>"
      ]
     },
     "metadata": {
      "needs_background": "light"
     },
     "output_type": "display_data"
    }
   ],
   "source": [
    "df_seoul['SO2_class'].value_counts().plot(kind=\"bar\")"
   ]
  },
  {
   "cell_type": "code",
   "execution_count": 110,
   "metadata": {},
   "outputs": [],
   "source": [
    "df_seoul['NO2_class']=-1\n",
    "for (idx,row) in df_seoul.iterrows():\n",
    "    no=row[2]\n",
    "    _class=-1\n",
    "    if no<0:\n",
    "        continue\n",
    "    elif no<0.03:\n",
    "        _class=0\n",
    "    elif no<0.06:\n",
    "        _class=1\n",
    "    elif no<0.20:\n",
    "        _class=2\n",
    "    else:\n",
    "        _class=3\n",
    "    df_seoul.loc[idx,'NO2_class']=_class"
   ]
  },
  {
   "cell_type": "code",
   "execution_count": 111,
   "metadata": {},
   "outputs": [
    {
     "data": {
      "text/html": [
       "<div>\n",
       "<style scoped>\n",
       "    .dataframe tbody tr th:only-of-type {\n",
       "        vertical-align: middle;\n",
       "    }\n",
       "\n",
       "    .dataframe tbody tr th {\n",
       "        vertical-align: top;\n",
       "    }\n",
       "\n",
       "    .dataframe thead th {\n",
       "        text-align: right;\n",
       "    }\n",
       "</style>\n",
       "<table border=\"1\" class=\"dataframe\">\n",
       "  <thead>\n",
       "    <tr style=\"text-align: right;\">\n",
       "      <th></th>\n",
       "      <th>date</th>\n",
       "      <th>SO2</th>\n",
       "      <th>NO2</th>\n",
       "      <th>O3</th>\n",
       "      <th>CO</th>\n",
       "      <th>PM10</th>\n",
       "      <th>PM2.5</th>\n",
       "      <th>PM10_class</th>\n",
       "      <th>PM2.5_class</th>\n",
       "      <th>SO2_class</th>\n",
       "      <th>NO2_class</th>\n",
       "    </tr>\n",
       "  </thead>\n",
       "  <tbody>\n",
       "    <tr>\n",
       "      <th>0</th>\n",
       "      <td>2017-01-01</td>\n",
       "      <td>0.003627</td>\n",
       "      <td>0.044765</td>\n",
       "      <td>0.002478</td>\n",
       "      <td>0.981833</td>\n",
       "      <td>77.201667</td>\n",
       "      <td>56.773333</td>\n",
       "      <td>1</td>\n",
       "      <td>2</td>\n",
       "      <td>0</td>\n",
       "      <td>1</td>\n",
       "    </tr>\n",
       "    <tr>\n",
       "      <th>1</th>\n",
       "      <td>2017-01-02</td>\n",
       "      <td>0.002707</td>\n",
       "      <td>0.035960</td>\n",
       "      <td>0.013127</td>\n",
       "      <td>0.891333</td>\n",
       "      <td>109.243333</td>\n",
       "      <td>77.838333</td>\n",
       "      <td>2</td>\n",
       "      <td>2</td>\n",
       "      <td>0</td>\n",
       "      <td>1</td>\n",
       "    </tr>\n",
       "    <tr>\n",
       "      <th>2</th>\n",
       "      <td>2017-01-03</td>\n",
       "      <td>0.000602</td>\n",
       "      <td>0.037017</td>\n",
       "      <td>0.008223</td>\n",
       "      <td>0.753833</td>\n",
       "      <td>78.546667</td>\n",
       "      <td>51.533333</td>\n",
       "      <td>1</td>\n",
       "      <td>2</td>\n",
       "      <td>0</td>\n",
       "      <td>1</td>\n",
       "    </tr>\n",
       "    <tr>\n",
       "      <th>3</th>\n",
       "      <td>2017-01-04</td>\n",
       "      <td>0.004122</td>\n",
       "      <td>0.048813</td>\n",
       "      <td>0.006918</td>\n",
       "      <td>0.878500</td>\n",
       "      <td>54.966667</td>\n",
       "      <td>34.533333</td>\n",
       "      <td>1</td>\n",
       "      <td>2</td>\n",
       "      <td>0</td>\n",
       "      <td>1</td>\n",
       "    </tr>\n",
       "    <tr>\n",
       "      <th>4</th>\n",
       "      <td>2017-01-05</td>\n",
       "      <td>0.003122</td>\n",
       "      <td>0.033892</td>\n",
       "      <td>0.009725</td>\n",
       "      <td>0.656333</td>\n",
       "      <td>36.246667</td>\n",
       "      <td>22.168333</td>\n",
       "      <td>1</td>\n",
       "      <td>1</td>\n",
       "      <td>0</td>\n",
       "      <td>1</td>\n",
       "    </tr>\n",
       "  </tbody>\n",
       "</table>\n",
       "</div>"
      ],
      "text/plain": [
       "         date       SO2       NO2        O3        CO        PM10      PM2.5  \\\n",
       "0  2017-01-01  0.003627  0.044765  0.002478  0.981833   77.201667  56.773333   \n",
       "1  2017-01-02  0.002707  0.035960  0.013127  0.891333  109.243333  77.838333   \n",
       "2  2017-01-03  0.000602  0.037017  0.008223  0.753833   78.546667  51.533333   \n",
       "3  2017-01-04  0.004122  0.048813  0.006918  0.878500   54.966667  34.533333   \n",
       "4  2017-01-05  0.003122  0.033892  0.009725  0.656333   36.246667  22.168333   \n",
       "\n",
       "   PM10_class  PM2.5_class  SO2_class  NO2_class  \n",
       "0           1            2          0          1  \n",
       "1           2            2          0          1  \n",
       "2           1            2          0          1  \n",
       "3           1            2          0          1  \n",
       "4           1            1          0          1  "
      ]
     },
     "execution_count": 111,
     "metadata": {},
     "output_type": "execute_result"
    }
   ],
   "source": [
    "df_seoul.head()"
   ]
  },
  {
   "cell_type": "code",
   "execution_count": 112,
   "metadata": {},
   "outputs": [
    {
     "data": {
      "text/plain": [
       "<matplotlib.axes._subplots.AxesSubplot at 0x1ebc4cf1e48>"
      ]
     },
     "execution_count": 112,
     "metadata": {},
     "output_type": "execute_result"
    },
    {
     "data": {
      "image/png": "[encoded data removed]",
      "text/plain": [
       "<Figure size 432x288 with 1 Axes>"
      ]
     },
     "metadata": {
      "needs_background": "light"
     },
     "output_type": "display_data"
    }
   ],
   "source": [
    "df_seoul['NO2_class'].value_counts().plot(kind=\"bar\")"
   ]
  },
  {
   "cell_type": "code",
   "execution_count": 113,
   "metadata": {},
   "outputs": [],
   "source": [
    "df_seoul['CO_class']=-1\n",
    "for (idx,row) in df_seoul.iterrows():\n",
    "    co=row[3]\n",
    "    _class=-1\n",
    "    if co<0:\n",
    "        continue\n",
    "    elif co<2:\n",
    "        _class=0\n",
    "    elif co<9:\n",
    "        _class=1\n",
    "    elif co<15:\n",
    "        _class=2\n",
    "    else:\n",
    "        _class=3\n",
    "    df_seoul.loc[idx,'CO_class']=_class"
   ]
  },
  {
   "cell_type": "code",
   "execution_count": 114,
   "metadata": {},
   "outputs": [
    {
     "data": {
      "text/html": [
       "<div>\n",
       "<style scoped>\n",
       "    .dataframe tbody tr th:only-of-type {\n",
       "        vertical-align: middle;\n",
       "    }\n",
       "\n",
       "    .dataframe tbody tr th {\n",
       "        vertical-align: top;\n",
       "    }\n",
       "\n",
       "    .dataframe thead th {\n",
       "        text-align: right;\n",
       "    }\n",
       "</style>\n",
       "<table border=\"1\" class=\"dataframe\">\n",
       "  <thead>\n",
       "    <tr style=\"text-align: right;\">\n",
       "      <th></th>\n",
       "      <th>date</th>\n",
       "      <th>SO2</th>\n",
       "      <th>NO2</th>\n",
       "      <th>O3</th>\n",
       "      <th>CO</th>\n",
       "      <th>PM10</th>\n",
       "      <th>PM2.5</th>\n",
       "      <th>PM10_class</th>\n",
       "      <th>PM2.5_class</th>\n",
       "      <th>SO2_class</th>\n",
       "      <th>NO2_class</th>\n",
       "      <th>CO_class</th>\n",
       "    </tr>\n",
       "  </thead>\n",
       "  <tbody>\n",
       "    <tr>\n",
       "      <th>0</th>\n",
       "      <td>2017-01-01</td>\n",
       "      <td>0.003627</td>\n",
       "      <td>0.044765</td>\n",
       "      <td>0.002478</td>\n",
       "      <td>0.981833</td>\n",
       "      <td>77.201667</td>\n",
       "      <td>56.773333</td>\n",
       "      <td>1</td>\n",
       "      <td>2</td>\n",
       "      <td>0</td>\n",
       "      <td>1</td>\n",
       "      <td>0</td>\n",
       "    </tr>\n",
       "    <tr>\n",
       "      <th>1</th>\n",
       "      <td>2017-01-02</td>\n",
       "      <td>0.002707</td>\n",
       "      <td>0.035960</td>\n",
       "      <td>0.013127</td>\n",
       "      <td>0.891333</td>\n",
       "      <td>109.243333</td>\n",
       "      <td>77.838333</td>\n",
       "      <td>2</td>\n",
       "      <td>2</td>\n",
       "      <td>0</td>\n",
       "      <td>1</td>\n",
       "      <td>0</td>\n",
       "    </tr>\n",
       "    <tr>\n",
       "      <th>2</th>\n",
       "      <td>2017-01-03</td>\n",
       "      <td>0.000602</td>\n",
       "      <td>0.037017</td>\n",
       "      <td>0.008223</td>\n",
       "      <td>0.753833</td>\n",
       "      <td>78.546667</td>\n",
       "      <td>51.533333</td>\n",
       "      <td>1</td>\n",
       "      <td>2</td>\n",
       "      <td>0</td>\n",
       "      <td>1</td>\n",
       "      <td>0</td>\n",
       "    </tr>\n",
       "    <tr>\n",
       "      <th>3</th>\n",
       "      <td>2017-01-04</td>\n",
       "      <td>0.004122</td>\n",
       "      <td>0.048813</td>\n",
       "      <td>0.006918</td>\n",
       "      <td>0.878500</td>\n",
       "      <td>54.966667</td>\n",
       "      <td>34.533333</td>\n",
       "      <td>1</td>\n",
       "      <td>2</td>\n",
       "      <td>0</td>\n",
       "      <td>1</td>\n",
       "      <td>0</td>\n",
       "    </tr>\n",
       "    <tr>\n",
       "      <th>4</th>\n",
       "      <td>2017-01-05</td>\n",
       "      <td>0.003122</td>\n",
       "      <td>0.033892</td>\n",
       "      <td>0.009725</td>\n",
       "      <td>0.656333</td>\n",
       "      <td>36.246667</td>\n",
       "      <td>22.168333</td>\n",
       "      <td>1</td>\n",
       "      <td>1</td>\n",
       "      <td>0</td>\n",
       "      <td>1</td>\n",
       "      <td>0</td>\n",
       "    </tr>\n",
       "  </tbody>\n",
       "</table>\n",
       "</div>"
      ],
      "text/plain": [
       "         date       SO2       NO2        O3        CO        PM10      PM2.5  \\\n",
       "0  2017-01-01  0.003627  0.044765  0.002478  0.981833   77.201667  56.773333   \n",
       "1  2017-01-02  0.002707  0.035960  0.013127  0.891333  109.243333  77.838333   \n",
       "2  2017-01-03  0.000602  0.037017  0.008223  0.753833   78.546667  51.533333   \n",
       "3  2017-01-04  0.004122  0.048813  0.006918  0.878500   54.966667  34.533333   \n",
       "4  2017-01-05  0.003122  0.033892  0.009725  0.656333   36.246667  22.168333   \n",
       "\n",
       "   PM10_class  PM2.5_class  SO2_class  NO2_class  CO_class  \n",
       "0           1            2          0          1         0  \n",
       "1           2            2          0          1         0  \n",
       "2           1            2          0          1         0  \n",
       "3           1            2          0          1         0  \n",
       "4           1            1          0          1         0  "
      ]
     },
     "execution_count": 114,
     "metadata": {},
     "output_type": "execute_result"
    }
   ],
   "source": [
    "df_seoul.head()"
   ]
  },
  {
   "cell_type": "code",
   "execution_count": 115,
   "metadata": {},
   "outputs": [
    {
     "data": {
      "text/plain": [
       "<matplotlib.axes._subplots.AxesSubplot at 0x1ebc47b2e48>"
      ]
     },
     "execution_count": 115,
     "metadata": {},
     "output_type": "execute_result"
    },
    {
     "data": {
      "image/png": "[encoded data removed]",
      "text/plain": [
       "<Figure size 432x288 with 1 Axes>"
      ]
     },
     "metadata": {
      "needs_background": "light"
     },
     "output_type": "display_data"
    }
   ],
   "source": [
    "df_seoul['CO_class'].value_counts().plot(kind=\"bar\")"
   ]
  },
  {
   "cell_type": "code",
   "execution_count": 120,
   "metadata": {},
   "outputs": [],
   "source": [
    "df_seoul['O3_class']=-1\n",
    "for (idx,row) in df_seoul.iterrows():\n",
    "    o=row[4]\n",
    "    _class=-1\n",
    "    if o<0:\n",
    "        continue\n",
    "    elif o<0.03:\n",
    "        _class=0\n",
    "    elif o<0.09:\n",
    "        _class=1\n",
    "    elif o<0.15:\n",
    "        _class=2\n",
    "    else:\n",
    "        _class=3\n",
    "    df_seoul.loc[idx,'O3_class']=_class"
   ]
  },
  {
   "cell_type": "code",
   "execution_count": 121,
   "metadata": {},
   "outputs": [
    {
     "data": {
      "text/html": [
       "<div>\n",
       "<style scoped>\n",
       "    .dataframe tbody tr th:only-of-type {\n",
       "        vertical-align: middle;\n",
       "    }\n",
       "\n",
       "    .dataframe tbody tr th {\n",
       "        vertical-align: top;\n",
       "    }\n",
       "\n",
       "    .dataframe thead th {\n",
       "        text-align: right;\n",
       "    }\n",
       "</style>\n",
       "<table border=\"1\" class=\"dataframe\">\n",
       "  <thead>\n",
       "    <tr style=\"text-align: right;\">\n",
       "      <th></th>\n",
       "      <th>date</th>\n",
       "      <th>SO2</th>\n",
       "      <th>NO2</th>\n",
       "      <th>O3</th>\n",
       "      <th>CO</th>\n",
       "      <th>PM10</th>\n",
       "      <th>PM2.5</th>\n",
       "      <th>PM10_class</th>\n",
       "      <th>PM2.5_class</th>\n",
       "      <th>SO2_class</th>\n",
       "      <th>NO2_class</th>\n",
       "      <th>CO_class</th>\n",
       "      <th>O3_class</th>\n",
       "    </tr>\n",
       "  </thead>\n",
       "  <tbody>\n",
       "    <tr>\n",
       "      <th>0</th>\n",
       "      <td>2017-01-01</td>\n",
       "      <td>0.003627</td>\n",
       "      <td>0.044765</td>\n",
       "      <td>0.002478</td>\n",
       "      <td>0.981833</td>\n",
       "      <td>77.201667</td>\n",
       "      <td>56.773333</td>\n",
       "      <td>1</td>\n",
       "      <td>2</td>\n",
       "      <td>0</td>\n",
       "      <td>1</td>\n",
       "      <td>0</td>\n",
       "      <td>3</td>\n",
       "    </tr>\n",
       "    <tr>\n",
       "      <th>1</th>\n",
       "      <td>2017-01-02</td>\n",
       "      <td>0.002707</td>\n",
       "      <td>0.035960</td>\n",
       "      <td>0.013127</td>\n",
       "      <td>0.891333</td>\n",
       "      <td>109.243333</td>\n",
       "      <td>77.838333</td>\n",
       "      <td>2</td>\n",
       "      <td>2</td>\n",
       "      <td>0</td>\n",
       "      <td>1</td>\n",
       "      <td>0</td>\n",
       "      <td>3</td>\n",
       "    </tr>\n",
       "    <tr>\n",
       "      <th>2</th>\n",
       "      <td>2017-01-03</td>\n",
       "      <td>0.000602</td>\n",
       "      <td>0.037017</td>\n",
       "      <td>0.008223</td>\n",
       "      <td>0.753833</td>\n",
       "      <td>78.546667</td>\n",
       "      <td>51.533333</td>\n",
       "      <td>1</td>\n",
       "      <td>2</td>\n",
       "      <td>0</td>\n",
       "      <td>1</td>\n",
       "      <td>0</td>\n",
       "      <td>3</td>\n",
       "    </tr>\n",
       "    <tr>\n",
       "      <th>3</th>\n",
       "      <td>2017-01-04</td>\n",
       "      <td>0.004122</td>\n",
       "      <td>0.048813</td>\n",
       "      <td>0.006918</td>\n",
       "      <td>0.878500</td>\n",
       "      <td>54.966667</td>\n",
       "      <td>34.533333</td>\n",
       "      <td>1</td>\n",
       "      <td>2</td>\n",
       "      <td>0</td>\n",
       "      <td>1</td>\n",
       "      <td>0</td>\n",
       "      <td>3</td>\n",
       "    </tr>\n",
       "    <tr>\n",
       "      <th>4</th>\n",
       "      <td>2017-01-05</td>\n",
       "      <td>0.003122</td>\n",
       "      <td>0.033892</td>\n",
       "      <td>0.009725</td>\n",
       "      <td>0.656333</td>\n",
       "      <td>36.246667</td>\n",
       "      <td>22.168333</td>\n",
       "      <td>1</td>\n",
       "      <td>1</td>\n",
       "      <td>0</td>\n",
       "      <td>1</td>\n",
       "      <td>0</td>\n",
       "      <td>3</td>\n",
       "    </tr>\n",
       "  </tbody>\n",
       "</table>\n",
       "</div>"
      ],
      "text/plain": [
       "         date       SO2       NO2        O3        CO        PM10      PM2.5  \\\n",
       "0  2017-01-01  0.003627  0.044765  0.002478  0.981833   77.201667  56.773333   \n",
       "1  2017-01-02  0.002707  0.035960  0.013127  0.891333  109.243333  77.838333   \n",
       "2  2017-01-03  0.000602  0.037017  0.008223  0.753833   78.546667  51.533333   \n",
       "3  2017-01-04  0.004122  0.048813  0.006918  0.878500   54.966667  34.533333   \n",
       "4  2017-01-05  0.003122  0.033892  0.009725  0.656333   36.246667  22.168333   \n",
       "\n",
       "   PM10_class  PM2.5_class  SO2_class  NO2_class  CO_class  O3_class  \n",
       "0           1            2          0          1         0         3  \n",
       "1           2            2          0          1         0         3  \n",
       "2           1            2          0          1         0         3  \n",
       "3           1            2          0          1         0         3  \n",
       "4           1            1          0          1         0         3  "
      ]
     },
     "execution_count": 121,
     "metadata": {},
     "output_type": "execute_result"
    }
   ],
   "source": [
    "df_seoul.head()"
   ]
  },
  {
   "cell_type": "code",
   "execution_count": 122,
   "metadata": {},
   "outputs": [
    {
     "data": {
      "text/plain": [
       "<matplotlib.axes._subplots.AxesSubplot at 0x1ebc3311b00>"
      ]
     },
     "execution_count": 122,
     "metadata": {},
     "output_type": "execute_result"
    },
    {
     "data": {
      "image/png": "[encoded data removed]",
      "text/plain": [
       "<Figure size 432x288 with 1 Axes>"
      ]
     },
     "metadata": {
      "needs_background": "light"
     },
     "output_type": "display_data"
    }
   ],
   "source": [
    "df_seoul['O3_class'].value_counts().plot(kind=\"bar\")"
   ]
  },
  {
   "cell_type": "markdown",
   "metadata": {},
   "source": [
    "# Data Splitting & Model Selection"
   ]
  },
  {
   "cell_type": "code",
   "execution_count": 79,
   "metadata": {},
   "outputs": [
    {
     "data": {
      "text/html": [
       "<div>\n",
       "<style scoped>\n",
       "    .dataframe tbody tr th:only-of-type {\n",
       "        vertical-align: middle;\n",
       "    }\n",
       "\n",
       "    .dataframe tbody tr th {\n",
       "        vertical-align: top;\n",
       "    }\n",
       "\n",
       "    .dataframe thead th {\n",
       "        text-align: right;\n",
       "    }\n",
       "</style>\n",
       "<table border=\"1\" class=\"dataframe\">\n",
       "  <thead>\n",
       "    <tr style=\"text-align: right;\">\n",
       "      <th></th>\n",
       "      <th>O3</th>\n",
       "    </tr>\n",
       "  </thead>\n",
       "  <tbody>\n",
       "    <tr>\n",
       "      <th>0</th>\n",
       "      <td>0.002478</td>\n",
       "    </tr>\n",
       "    <tr>\n",
       "      <th>1</th>\n",
       "      <td>0.013127</td>\n",
       "    </tr>\n",
       "    <tr>\n",
       "      <th>2</th>\n",
       "      <td>0.008223</td>\n",
       "    </tr>\n",
       "    <tr>\n",
       "      <th>3</th>\n",
       "      <td>0.006918</td>\n",
       "    </tr>\n",
       "    <tr>\n",
       "      <th>4</th>\n",
       "      <td>0.009725</td>\n",
       "    </tr>\n",
       "  </tbody>\n",
       "</table>\n",
       "</div>"
      ],
      "text/plain": [
       "         O3\n",
       "0  0.002478\n",
       "1  0.013127\n",
       "2  0.008223\n",
       "3  0.006918\n",
       "4  0.009725"
      ]
     },
     "execution_count": 79,
     "metadata": {},
     "output_type": "execute_result"
    }
   ],
   "source": [
    "y= pd.DataFrame(df_seoul.iloc[:,3:4])\n",
    "y.head()"
   ]
  },
  {
   "cell_type": "code",
   "execution_count": 82,
   "metadata": {},
   "outputs": [
    {
     "data": {
      "text/html": [
       "<div>\n",
       "<style scoped>\n",
       "    .dataframe tbody tr th:only-of-type {\n",
       "        vertical-align: middle;\n",
       "    }\n",
       "\n",
       "    .dataframe tbody tr th {\n",
       "        vertical-align: top;\n",
       "    }\n",
       "\n",
       "    .dataframe thead th {\n",
       "        text-align: right;\n",
       "    }\n",
       "</style>\n",
       "<table border=\"1\" class=\"dataframe\">\n",
       "  <thead>\n",
       "    <tr style=\"text-align: right;\">\n",
       "      <th></th>\n",
       "      <th>SO2</th>\n",
       "      <th>NO2</th>\n",
       "    </tr>\n",
       "  </thead>\n",
       "  <tbody>\n",
       "    <tr>\n",
       "      <th>0</th>\n",
       "      <td>0.003627</td>\n",
       "      <td>0.044765</td>\n",
       "    </tr>\n",
       "    <tr>\n",
       "      <th>1</th>\n",
       "      <td>0.002707</td>\n",
       "      <td>0.035960</td>\n",
       "    </tr>\n",
       "    <tr>\n",
       "      <th>2</th>\n",
       "      <td>0.000602</td>\n",
       "      <td>0.037017</td>\n",
       "    </tr>\n",
       "    <tr>\n",
       "      <th>3</th>\n",
       "      <td>0.004122</td>\n",
       "      <td>0.048813</td>\n",
       "    </tr>\n",
       "    <tr>\n",
       "      <th>4</th>\n",
       "      <td>0.003122</td>\n",
       "      <td>0.033892</td>\n",
       "    </tr>\n",
       "  </tbody>\n",
       "</table>\n",
       "</div>"
      ],
      "text/plain": [
       "        SO2       NO2\n",
       "0  0.003627  0.044765\n",
       "1  0.002707  0.035960\n",
       "2  0.000602  0.037017\n",
       "3  0.004122  0.048813\n",
       "4  0.003122  0.033892"
      ]
     },
     "execution_count": 82,
     "metadata": {},
     "output_type": "execute_result"
    }
   ],
   "source": [
    "x= pd.DataFrame(df_seoul.iloc[:,1:3])\n",
    "x.head()"
   ]
  },
  {
   "cell_type": "code",
   "execution_count": 83,
   "metadata": {},
   "outputs": [],
   "source": [
    "from sklearn.model_selection import train_test_split\n",
    "x_train, x_test, y_train, y_test = train_test_split(x, y, test_size=0.3, random_state=1)"
   ]
  },
  {
   "cell_type": "code",
   "execution_count": 84,
   "metadata": {},
   "outputs": [
    {
     "name": "stdout",
     "output_type": "stream",
     "text": [
      "(759, 2)\n",
      "(326, 2)\n",
      "(759, 1)\n",
      "(326, 1)\n"
     ]
    }
   ],
   "source": [
    "print (x_train.shape)\n",
    "print (x_test.shape)\n",
    "print (y_train.shape)\n",
    "print (y_test.shape)"
   ]
  },
  {
   "cell_type": "code",
   "execution_count": 85,
   "metadata": {},
   "outputs": [
    {
     "data": {
      "text/plain": [
       "LinearRegression(copy_X=True, fit_intercept=True, n_jobs=None, normalize=False)"
      ]
     },
     "execution_count": 85,
     "metadata": {},
     "output_type": "execute_result"
    }
   ],
   "source": [
    "from sklearn.linear_model import LinearRegression\n",
    "lr= LinearRegression()\n",
    "lr.fit(x_train, y_train)"
   ]
  },
  {
   "cell_type": "code",
   "execution_count": 87,
   "metadata": {},
   "outputs": [
    {
     "data": {
      "text/html": [
       "<div>\n",
       "<style scoped>\n",
       "    .dataframe tbody tr th:only-of-type {\n",
       "        vertical-align: middle;\n",
       "    }\n",
       "\n",
       "    .dataframe tbody tr th {\n",
       "        vertical-align: top;\n",
       "    }\n",
       "\n",
       "    .dataframe thead th {\n",
       "        text-align: right;\n",
       "    }\n",
       "</style>\n",
       "<table border=\"1\" class=\"dataframe\">\n",
       "  <thead>\n",
       "    <tr style=\"text-align: right;\">\n",
       "      <th></th>\n",
       "      <th>Coefficients</th>\n",
       "    </tr>\n",
       "  </thead>\n",
       "  <tbody>\n",
       "    <tr>\n",
       "      <th>0</th>\n",
       "      <td>1.492347</td>\n",
       "    </tr>\n",
       "    <tr>\n",
       "      <th>1</th>\n",
       "      <td>-0.438132</td>\n",
       "    </tr>\n",
       "  </tbody>\n",
       "</table>\n",
       "</div>"
      ],
      "text/plain": [
       "   Coefficients\n",
       "0      1.492347\n",
       "1     -0.438132"
      ]
     },
     "execution_count": 87,
     "metadata": {},
     "output_type": "execute_result"
    }
   ],
   "source": [
    "v = pd.DataFrame(lr.coef_ , index=['Coefficients']).transpose()\n",
    "v"
   ]
  },
  {
   "cell_type": "code",
   "execution_count": 88,
   "metadata": {},
   "outputs": [
    {
     "data": {
      "text/html": [
       "<div>\n",
       "<style scoped>\n",
       "    .dataframe tbody tr th:only-of-type {\n",
       "        vertical-align: middle;\n",
       "    }\n",
       "\n",
       "    .dataframe tbody tr th {\n",
       "        vertical-align: top;\n",
       "    }\n",
       "\n",
       "    .dataframe thead th {\n",
       "        text-align: right;\n",
       "    }\n",
       "</style>\n",
       "<table border=\"1\" class=\"dataframe\">\n",
       "  <thead>\n",
       "    <tr style=\"text-align: right;\">\n",
       "      <th></th>\n",
       "      <th>Attributes</th>\n",
       "    </tr>\n",
       "  </thead>\n",
       "  <tbody>\n",
       "    <tr>\n",
       "      <th>0</th>\n",
       "      <td>SO2</td>\n",
       "    </tr>\n",
       "    <tr>\n",
       "      <th>1</th>\n",
       "      <td>NO2</td>\n",
       "    </tr>\n",
       "  </tbody>\n",
       "</table>\n",
       "</div>"
      ],
      "text/plain": [
       "  Attributes\n",
       "0        SO2\n",
       "1        NO2"
      ]
     },
     "execution_count": 88,
     "metadata": {},
     "output_type": "execute_result"
    }
   ],
   "source": [
    "w = pd.DataFrame(x.columns, columns=['Attributes'])\n",
    "w"
   ]
  },
  {
   "cell_type": "code",
   "execution_count": 92,
   "metadata": {},
   "outputs": [
    {
     "data": {
      "text/html": [
       "<div>\n",
       "<style scoped>\n",
       "    .dataframe tbody tr th:only-of-type {\n",
       "        vertical-align: middle;\n",
       "    }\n",
       "\n",
       "    .dataframe tbody tr th {\n",
       "        vertical-align: top;\n",
       "    }\n",
       "\n",
       "    .dataframe thead th {\n",
       "        text-align: right;\n",
       "    }\n",
       "</style>\n",
       "<table border=\"1\" class=\"dataframe\">\n",
       "  <thead>\n",
       "    <tr style=\"text-align: right;\">\n",
       "      <th></th>\n",
       "      <th>Attributes</th>\n",
       "      <th>Coefficients</th>\n",
       "    </tr>\n",
       "  </thead>\n",
       "  <tbody>\n",
       "    <tr>\n",
       "      <th>0</th>\n",
       "      <td>SO2</td>\n",
       "      <td>1.492347</td>\n",
       "    </tr>\n",
       "    <tr>\n",
       "      <th>1</th>\n",
       "      <td>NO2</td>\n",
       "      <td>-0.438132</td>\n",
       "    </tr>\n",
       "  </tbody>\n",
       "</table>\n",
       "</div>"
      ],
      "text/plain": [
       "  Attributes  Coefficients\n",
       "0        SO2      1.492347\n",
       "1        NO2     -0.438132"
      ]
     },
     "execution_count": 92,
     "metadata": {},
     "output_type": "execute_result"
    }
   ],
   "source": [
    "df_coeff= pd.concat([w,v], axis=1)\n",
    "df_coeff"
   ]
  },
  {
   "cell_type": "code",
   "execution_count": 101,
   "metadata": {},
   "outputs": [
    {
     "data": {
      "text/html": [
       "<div>\n",
       "<style scoped>\n",
       "    .dataframe tbody tr th:only-of-type {\n",
       "        vertical-align: middle;\n",
       "    }\n",
       "\n",
       "    .dataframe tbody tr th {\n",
       "        vertical-align: top;\n",
       "    }\n",
       "\n",
       "    .dataframe thead th {\n",
       "        text-align: right;\n",
       "    }\n",
       "</style>\n",
       "<table border=\"1\" class=\"dataframe\">\n",
       "  <thead>\n",
       "    <tr style=\"text-align: right;\">\n",
       "      <th></th>\n",
       "      <th>Predicted</th>\n",
       "    </tr>\n",
       "  </thead>\n",
       "  <tbody>\n",
       "    <tr>\n",
       "      <th>0</th>\n",
       "      <td>0.028021</td>\n",
       "    </tr>\n",
       "    <tr>\n",
       "      <th>1</th>\n",
       "      <td>0.021073</td>\n",
       "    </tr>\n",
       "    <tr>\n",
       "      <th>2</th>\n",
       "      <td>0.028291</td>\n",
       "    </tr>\n",
       "    <tr>\n",
       "      <th>3</th>\n",
       "      <td>0.022825</td>\n",
       "    </tr>\n",
       "    <tr>\n",
       "      <th>4</th>\n",
       "      <td>0.024446</td>\n",
       "    </tr>\n",
       "  </tbody>\n",
       "</table>\n",
       "</div>"
      ],
      "text/plain": [
       "   Predicted\n",
       "0   0.028021\n",
       "1   0.021073\n",
       "2   0.028291\n",
       "3   0.022825\n",
       "4   0.024446"
      ]
     },
     "execution_count": 101,
     "metadata": {},
     "output_type": "execute_result"
    }
   ],
   "source": [
    "y_pred = lr.predict(x_test)\n",
    "y_pred = pd.DataFrame(y_pred, columns=['Predicted'])\n",
    "y_pred.head()"
   ]
  },
  {
   "cell_type": "code",
   "execution_count": 102,
   "metadata": {},
   "outputs": [
    {
     "data": {
      "text/html": [
       "<div>\n",
       "<style scoped>\n",
       "    .dataframe tbody tr th:only-of-type {\n",
       "        vertical-align: middle;\n",
       "    }\n",
       "\n",
       "    .dataframe tbody tr th {\n",
       "        vertical-align: top;\n",
       "    }\n",
       "\n",
       "    .dataframe thead th {\n",
       "        text-align: right;\n",
       "    }\n",
       "</style>\n",
       "<table border=\"1\" class=\"dataframe\">\n",
       "  <thead>\n",
       "    <tr style=\"text-align: right;\">\n",
       "      <th></th>\n",
       "      <th>O3</th>\n",
       "    </tr>\n",
       "  </thead>\n",
       "  <tbody>\n",
       "    <tr>\n",
       "      <th>873</th>\n",
       "      <td>0.045597</td>\n",
       "    </tr>\n",
       "    <tr>\n",
       "      <th>80</th>\n",
       "      <td>0.025343</td>\n",
       "    </tr>\n",
       "    <tr>\n",
       "      <th>535</th>\n",
       "      <td>0.037515</td>\n",
       "    </tr>\n",
       "    <tr>\n",
       "      <th>329</th>\n",
       "      <td>0.010945</td>\n",
       "    </tr>\n",
       "    <tr>\n",
       "      <th>244</th>\n",
       "      <td>0.026538</td>\n",
       "    </tr>\n",
       "  </tbody>\n",
       "</table>\n",
       "</div>"
      ],
      "text/plain": [
       "           O3\n",
       "873  0.045597\n",
       "80   0.025343\n",
       "535  0.037515\n",
       "329  0.010945\n",
       "244  0.026538"
      ]
     },
     "execution_count": 102,
     "metadata": {},
     "output_type": "execute_result"
    }
   ],
   "source": [
    "y_test.head()"
   ]
  },
  {
   "cell_type": "code",
   "execution_count": 100,
   "metadata": {},
   "outputs": [
    {
     "name": "stdout",
     "output_type": "stream",
     "text": [
      "Mean Absolute Error: 0.009711303632781035\n",
      "Mean Squared Error: 0.00021858610968756242\n",
      "Root Mean Squared Error: 0.014784657915811322\n"
     ]
    }
   ],
   "source": [
    "from sklearn import metrics\n",
    "print(\"Mean Absolute Error:\", metrics.mean_absolute_error(y_test, y_pred))\n",
    "print(\"Mean Squared Error:\", metrics.mean_squared_error(y_test, y_pred))\n",
    "print(\"Root Mean Squared Error:\", np.sqrt(metrics.mean_squared_error(y_test, y_pred)))"
   ]
  },
  {
   "cell_type": "code",
   "execution_count": 123,
   "metadata": {},
   "outputs": [
    {
     "data": {
      "text/plain": [
       "0.5755759461710528"
      ]
     },
     "execution_count": 123,
     "metadata": {},
     "output_type": "execute_result"
    }
   ],
   "source": [
    "metrics.r2_score(y_test,y_pred)"
   ]
  },
  {
   "cell_type": "code",
   "execution_count": null,
   "metadata": {},
   "outputs": [],
   "source": []
  }
 ],
 "metadata": {
  "kernelspec": {
   "display_name": "Python 3",
   "language": "python",
   "name": "python3"
  },
  "language_info": {
   "codemirror_mode": {
    "name": "ipython",
    "version": 3
   },
   "file_extension": ".py",
   "mimetype": "text/x-python",
   "name": "python",
   "nbconvert_exporter": "python",
   "pygments_lexer": "ipython3",
   "version": "3.7.3"
  }
 },
 "nbformat": 4,
 "nbformat_minor": 2
}
